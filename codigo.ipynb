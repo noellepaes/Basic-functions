{
 "cells": [
  {
   "cell_type": "markdown",
   "metadata": {},
   "source": [
    "## **DESAFIO PYTHON PANDAS**\n",
    "\n",
    "1 - Importe o dataset utilizando a seguinte função do pydataset: data(“Código”)\n",
    "\n",
    "2 - Imprimir na tela o dataset;\n",
    "\n",
    "3 - Informe o tipo de dados retornado pela função data;\n",
    "\n",
    "4 - Informe o número de exemplos (linhas) e características (colunas) do dataset.\n",
    "\n",
    "5 - Crie uma função que ao receber um DataFrame retorna o número de linhas e colunas.\n",
    "\n",
    "\n",
    "Código do dataset: iris"
   ]
  },
  {
   "cell_type": "code",
   "execution_count": 2,
   "metadata": {},
   "outputs": [
    {
     "name": "stderr",
     "output_type": "stream",
     "text": [
      "'pip' n�o � reconhecido como um comando interno\n",
      "ou externo, um programa oper�vel ou um arquivo em lotes.\n"
     ]
    }
   ],
   "source": [
    "!pip install pydataset"
   ]
  },
  {
   "cell_type": "code",
   "execution_count": null,
   "metadata": {},
   "outputs": [
    {
     "ename": "ModuleNotFoundError",
     "evalue": "No module named 'pydataset'",
     "output_type": "error",
     "traceback": [
      "\u001b[31m---------------------------------------------------------------------------\u001b[39m",
      "\u001b[31mModuleNotFoundError\u001b[39m                       Traceback (most recent call last)",
      "\u001b[36mCell\u001b[39m\u001b[36m \u001b[39m\u001b[32mIn[4]\u001b[39m\u001b[32m, line 1\u001b[39m\n\u001b[32m----> \u001b[39m\u001b[32m1\u001b[39m \u001b[38;5;28;01mimport\u001b[39;00m\u001b[38;5;250m \u001b[39m\u001b[34;01mpydataset\u001b[39;00m\u001b[38;5;250m \u001b[39m\u001b[38;5;28;01mas\u001b[39;00m\u001b[38;5;250m \u001b[39m\u001b[34;01mdt\u001b[39;00m \u001b[38;5;66;03m# type: ignore\u001b[39;00m\n\u001b[32m      2\u001b[39m \u001b[38;5;28;01mimport\u001b[39;00m\u001b[38;5;250m \u001b[39m\u001b[34;01mpandas\u001b[39;00m\u001b[38;5;250m \u001b[39m\u001b[38;5;28;01mas\u001b[39;00m\u001b[38;5;250m \u001b[39m\u001b[34;01mpd\u001b[39;00m \u001b[38;5;66;03m# type: ignore\u001b[39;00m\n",
      "\u001b[31mModuleNotFoundError\u001b[39m: No module named 'pydataset'"
     ]
    }
   ],
   "source": [
    "import pydataset as dt \n",
    "import pandas as pd"
   ]
  },
  {
   "cell_type": "code",
   "execution_count": null,
   "metadata": {},
   "outputs": [],
   "source": [
    "iris = dt.data('iris') \n",
    "# 1. Importe o dataset utilizando a seguinte função do pydataset:data(“Código”)\n",
    "\n",
    "iris.head() \n",
    "# 2. Imprimir na tela o dataset;"
   ]
  },
  {
   "cell_type": "code",
   "execution_count": null,
   "metadata": {},
   "outputs": [],
   "source": [
    "print(type(iris))\n",
    " # 3. Informe o tipo de dados retornado pela função data;"
   ]
  },
  {
   "cell_type": "code",
   "execution_count": null,
   "metadata": {},
   "outputs": [],
   "source": [
    "# 5. Crie uma função que ao receber um DataFrame retorna onúmero de linhas e colunas.\n",
    "\n",
    "def dimensoes(df):\n",
    "    return df.shape\n",
    "\n",
    "print(dimensoes(iris))"
   ]
  },
  {
   "cell_type": "markdown",
   "metadata": {},
   "source": [
    "# **Desafio 2: PlantGrowth**\n",
    "\n",
    "Definição do problema: Dada a tabela com o peso e grupo das\n",
    "plantas\n",
    "\n",
    "  1. Calcule a média do peso (weight) para cada grupo (group).\n",
    "  2. Verifique se algum grupo tem peso médio maior que 6.\n",
    "  3.Crie uma tabela mostrando o peso máximo e mínimo por grupo.\n",
    "  Código do dataset: PlantGrowth\n",
    "  Dicas:\n",
    "  atributo do DataFrame: groupby, agg"
   ]
  },
  {
   "cell_type": "code",
   "execution_count": null,
   "metadata": {},
   "outputs": [],
   "source": [
    "PlantGrowth = dt.data('PlantGrowth')\n",
    " # Carregando o dataset PlantGrowth\n",
    "PlantGrowth.head()"
   ]
  },
  {
   "cell_type": "code",
   "execution_count": null,
   "metadata": {},
   "outputs": [],
   "source": [
    "df_peso_medio = PlantGrowth.groupby('group').agg({'weight': 'mean'})  \n",
    " # 1 - Calcule a média do peso (weight) para cada grupo (group).\n",
    "df_peso_medio"
   ]
  },
  {
   "cell_type": "code",
   "execution_count": null,
   "metadata": {},
   "outputs": [],
   "source": [
    "validacao= df_peso_medio['weight'] > 6   \n",
    "#  2 - Verifique se algum grupo tem peso médio maior que 6.\n",
    "\n",
    "validacao\n",
    "\n",
    "if validacao.any(): \n",
    "    # Verificar se há pelo menos um valor verdadeiro em uma sequência booleana.\n",
    "    print(\"Há pelo menos um grupo com peso médio maior que 6.\")\n",
    "else:\n",
    "    print(\"Não há nenhum grupo com peso médio maior que 6.\")"
   ]
  },
  {
   "cell_type": "code",
   "execution_count": null,
   "metadata": {},
   "outputs": [],
   "source": [
    "tabela_max_min = PlantGrowth.groupby('group')['weight'].agg(['max', 'min']) \n",
    "# 3 - Crie uma tabela mostrando o peso máximo e mínimo por grupo.\n",
    "tabela_max_min"
   ]
  },
  {
   "cell_type": "markdown",
   "metadata": {},
   "source": [
    "# **Desafio 3: HairEyeColor**\n",
    "Definição do problema: Dado que você está trabalhando com um grupo de pesquisadores que estão analisando a combinação da cor e dos olhos das pessoas.\n",
    "\n",
    "1 - Calcule o número total de pessoas para cada combinação de cor de cabelo (Hair) e cor dos olhos (Eye).\n",
    "\n",
    "2 - Encontre a cor de cabelo mais comum entre pessoas com olhos castanhos (Brown).\n",
    "\n",
    "3 - Crie uma tabela com a contagem total de pessoas por cor de cabelo.\n",
    "\n",
    "4 - Código do dataset: HairEyeColor Dicas:\n",
    "\n",
    "atributo do DataFrame: sum,reset_index"
   ]
  },
  {
   "cell_type": "code",
   "execution_count": null,
   "metadata": {},
   "outputs": [],
   "source": [
    "HairEyeColor = dt.data('HairEyeColor')\n",
    " # Importando o dataset HairEyeColor\n",
    "\n",
    "# 1 - Calcule o número total de pessoas para cada combinação de cor de cabelo (Hair) e cor dos olhos (Eye).\n",
    "\n",
    "df_combinacao_cor = HairEyeColor.groupby(['Hair', 'Eye']).size().reset_index(name='Total')\n",
    "df_combinacao_cor\n",
    "\n",
    "# size() - Retornar uma série de registros (linhas) para cada combinação única de cabelo e olhos.\n",
    "# reset_index ()- Converter a Série em um DataFrame e atibui o um nome Total à coluna"
   ]
  },
  {
   "cell_type": "code",
   "execution_count": null,
   "metadata": {},
   "outputs": [],
   "source": [
    "# 2 - Encontre a cor de cabelo mais comum entre pessoas com olhos castanhos (Brown).\n",
    "\n",
    "olhos_castanhos = HairEyeColor[HairEyeColor['Eye'] == 'Brown'] \n",
    "# Apena pessoas com olhos castanhos (Brown)\n",
    "olhos_castanhos.head()"
   ]
  },
  {
   "cell_type": "code",
   "execution_count": null,
   "metadata": {},
   "outputs": [],
   "source": [
    "cabelo_comum = olhos_castanhos.groupby('Hair')['Freq'].sum() \n",
    "# Agrupando por cor de cabelo e somando a frequencia\n",
    "\n",
    "print(cabelo_comum)\n",
    "\n",
    "print(f'A cor de cabelo mais comum entre pessoas com olhos castanhos é {cabelo_comum.idxmax()}.')"
   ]
  },
  {
   "cell_type": "code",
   "execution_count": null,
   "metadata": {},
   "outputs": [],
   "source": [
    "# 3 - Crie uma tabela com a contagem total de pessoas por cor de cabelo\n",
    "contagem_total_por_cor = HairEyeColor.groupby('Hair')['Freq'].sum()\n",
    "# Agrupando por cor de cabelo e somando a frequencia\n",
    "contagem_total_por_cor"
   ]
  },
  {
   "cell_type": "markdown",
   "metadata": {},
   "source": [
    "# **Desafio 4: InsectSprays**\n",
    "\n",
    "Definição do problema: Dado que você está trabalhando num\n",
    "laboratório de inseticidas. Você precisa fazer uma pesquisa em todos\n",
    "os sprays e verificar qual jogo é o mais eficaz.\n",
    "\n",
    "\n",
    "---\n",
    "\n",
    "\n",
    "\n",
    "1 - Calcule o número total de insetos mortos (count) por tipo de spray\n",
    "(spray).\n",
    "\n",
    "2 - Identifique qual spray foi o mais eficaz em matar insetos.\n",
    "\n",
    "3 - Calcule a média geral e filtre os dados para mostrar apenas sprays\n",
    "com eficácia acima da média\n",
    "\n",
    "Código do dataset: InsectSpray\n",
    "Dicas:\n",
    "Use o método.idmax()"
   ]
  },
  {
   "cell_type": "code",
   "execution_count": null,
   "metadata": {},
   "outputs": [],
   "source": [
    "# Carregar o dataset InsectSprays\n",
    "InsectSprays = dt.data(\"InsectSprays\")\n",
    "InsectSprays.head()"
   ]
  },
  {
   "cell_type": "code",
   "execution_count": null,
   "metadata": {},
   "outputs": [],
   "source": [
    "# 2 - Identificar o spray mais eficaz\n",
    "spray_mais_eficaz = total_por_spray[\"spray\"].idxmax()\n",
    "print(\"\\nSpray mais eficaz:\", spray_mais_eficaz)"
   ]
  },
  {
   "cell_type": "code",
   "execution_count": null,
   "metadata": {},
   "outputs": [],
   "source": [
    "# 3 - Calcular a média geral e filtrar os sprays acima da média\n",
    "media_geral = total_por_spray[\"count\"].mean()\n",
    "sprays_acima_da_media = total_por_spray[total_por_spray[\"count\"] > media_geral]\n",
    "print(\"\\nSprays com eficácia acima da média:\\n\", sprays_acima_da_media)"
   ]
  },
  {
   "cell_type": "markdown",
   "metadata": {},
   "source": [
    "# **Desafio 5: Chickwts**\n",
    "\n",
    "Definição do problema: Foi conduzido um experimento para medir\n",
    "e comparar a eficácia de vários suplementos alimentares na taxa\n",
    "de crescimento de galinhas.\n",
    "Os pintinhos recém-nascidos foram alocados aleatoriamente em\n",
    "seis grupos, e cada grupo recebeu um suplemento alimentar\n",
    "diferente. Seus pesos em gramas após seis semanas são fornecidos\n",
    "junto com os tipos de ração.\n",
    "\n",
    "\n",
    "---\n",
    "\n",
    "\n",
    "**1** - Calcule o peso médio dos pintinhos (weight) para cada tipo de\n",
    "ração (feed).\n",
    "\n",
    "**2** - Identifique a ração que resultou no maior peso médio.\n",
    "\n",
    "**3** - Crie uma tabela que mostre o peso máximo, mínimo e médio\n",
    "para cada tipo de ração\n",
    "\n",
    "Código do dataset: chickwts\n",
    "\n",
    "Dicas:\n",
    "\n",
    "Método .reset_index()\n",
    "\n",
    "Método idxmax()\n",
    "\n",
    "Método .groupby()"
   ]
  },
  {
   "cell_type": "code",
   "execution_count": null,
   "metadata": {},
   "outputs": [],
   "source": [
    "chickwts = dt.data(\"chickwts\")\n",
    "#importando o data e visualizando\n",
    "chickwts.head()"
   ]
  },
  {
   "cell_type": "code",
   "execution_count": null,
   "metadata": {},
   "outputs": [],
   "source": [
    "# 1 - Calcule o peso médio dos pintinhos (weight) para cada tipo deração (feed).\n",
    "\n",
    "media_peso = chickwts.groupby(\"feed\")[\"weight\"].mean()  \n",
    " # calculando a média\n",
    "media_peso\n",
    "print(f'\\n Peso médio por tipo de ração:')\n",
    "media_peso.round(2)"
   ]
  },
  {
   "cell_type": "code",
   "execution_count": null,
   "metadata": {},
   "outputs": [],
   "source": [
    "# 2 - Identifique a ração que resultou no maior peso médio.\n",
    "\n",
    "racao_peso = media_peso.idxmax()\n",
    "print(racao_peso)"
   ]
  },
  {
   "cell_type": "code",
   "execution_count": null,
   "metadata": {},
   "outputs": [],
   "source": [
    "# 3 - Crie uma tabela que mostre o peso máximo, mínimo e médio para cada tipo de ração\n",
    "\n",
    "from re import escape\n",
    "estatisticas_peso = chickwts.groupby(\"feed\")[\"weight\"].agg([\"max\", \"min\", \"mean\"])\n",
    "print(\"\\nTabela de estatísticas de peso por ração:\")\n",
    "estatisticas_peso.round(2)"
   ]
  },
  {
   "cell_type": "markdown",
   "metadata": {},
   "source": [
    "# **Desafio 6: Attitude**\n",
    "\n",
    "Definição do problema: De uma pesquisa com funcionários\n",
    "administrativos de uma grande organização financeira, os dados\n",
    "são agregados dos questionários de aproximadamente 35\n",
    "funcionários para cada um dos 30 departamentos (selecionados\n",
    "aleatoriamente). Os números dão a proporção percentual de\n",
    "respostas favoráveis a sete perguntas em cada departamento.\n",
    "\n",
    "Dicionário:\n",
    "\n",
    "\n",
    "*   rating: nota geral do departamento\n",
    "*   complaints: fator categórico sobre reclamações\n",
    "*   privileges: acesso a benefícios\n",
    "*   privileges: acesso a benefícios\n",
    "*   learning: fator categórico sobre aprendizado\n",
    "*   raises: fator categórico sobre aumentos salariais\n",
    "*   critical: fator categórico sobre feedback crítico\n",
    "*   advance: oportunidades de crescimento\n",
    "\n",
    "\n",
    "---\n",
    "\n",
    "\n",
    "\n",
    "1 - Calcule a média de \"aprendizado\" (learning) por nível de\n",
    "motivação (rating).\n",
    "\n",
    "2 - Encontre a combinação de rating e complaints que possui o\n",
    "maior valor médio de aprendizado.\n",
    "\n",
    "3 - Qual é o nível médio de aprendizado para funcionários que\n",
    "receberam aumentos (raises) acima da média?\n",
    "\n",
    "Código do dataset: Attitude\n",
    "\n",
    "Dicas: Método .reset_index()\n",
    "groupby"
   ]
  },
  {
   "cell_type": "code",
   "execution_count": null,
   "metadata": {},
   "outputs": [],
   "source": [
    "#importantando os dados e visualizando as primeiras linhas da tabela\n",
    "attitude = dt.data('attitude')\n",
    "attitude.head()"
   ]
  },
  {
   "cell_type": "code",
   "execution_count": null,
   "metadata": {},
   "outputs": [],
   "source": [
    "# 1 - Calcule a média de \"aprendizado\" (learning) por nível de motivação (rating).\n",
    "\n",
    "#Calculando a média de Learning (aprendizado) por rating (motivação) usando o método .mean()\n",
    "learning_and_rating_mean = attitude.groupby('learning')['rating'].mean()\n",
    "#Visualizando o resultado\n",
    "print(\"\\nA média de aprendizado por motivação é: \\n\")\n",
    "\n",
    "learning_and_rating_mean"
   ]
  },
  {
   "cell_type": "code",
   "execution_count": null,
   "metadata": {},
   "outputs": [],
   "source": [
    "# 2 - Encontre a combinação de rating e complaints que possui o maior valor médio de aprendizado\n",
    "\n",
    "#Encontrando a combinação de valores entre rating e complaints\n",
    "#Para cada conjunto unico de rating + complaints será calculado a média de learning\n",
    "mean_rating_complaints = attitude.groupby(['rating','complaints'])['learning'].mean().reset_index()\n",
    "print(mean_rating_complaints)\n",
    "\n",
    "combination_max = mean_rating_complaints.idxmax()\n",
    "#retorna o maior valor encontrado na média de learning\n",
    "learning_max = mean_rating_complaints.max()\n",
    "\n",
    "#exibe o resultado\n",
    "combination_max\n",
    "learning_max"
   ]
  },
  {
   "cell_type": "code",
   "execution_count": null,
   "metadata": {},
   "outputs": [],
   "source": [
    "# 3 - Qual é o nível médio de aprendizado para funcionários que receberam aumentos (raises) acima da média?\n",
    "\n",
    "#calculando a média de aumentos\n",
    "mean_raises = attitude['raises'].mean()\n",
    "\n",
    "#filtrando funcionários com aumentos acima da média\n",
    "above_employee_mean = attitude[attitude['raises'] > mean_raises]\n",
    "\n",
    "#Obter a média de learning apenas para funcionarios com aumentos aciuma da média\n",
    "above_learning_mean = above_employee_mean['learning'].mean()\n",
    "\n",
    "#Exibe o resultado\n",
    "print(f\"O nível médio de aprendizado para funcionários que receberam aumento acima da média é: {above_learning_mean:.2f}\")"
   ]
  },
  {
   "cell_type": "markdown",
   "metadata": {},
   "source": [
    "# Desafio 7: Titanic\n",
    " Definição do problema: Dado que você está trabalhando com um\n",
    " grupo de historiadores que estão analisando o naufrágio do Titanic,\n",
    " informe aos historiadores as seguintes questões:\n",
    "\n",
    "1. Qual a taxa de sobrevivência geral no navio?\n",
    "2. Qual a taxa de sobrevivência por classe (Pclass)?\n",
    "3. Qual o sexo com maior taxa de sobrevivência?\n",
    "4. Baseado nos dados informados. Qual a quantidade de adultos e\n",
    "crianças (sobreviventes) e não sobrevivente\n",
    "\n",
    "\n",
    "---\n",
    "\n",
    "\n",
    "Código do dataset: titanic\n",
    "\n",
    "# Dicas:\n",
    "atributo do DataFrame:\n",
    "shape\n",
    "Método map()\n",
    "Método groupby()"
   ]
  },
  {
   "cell_type": "code",
   "execution_count": null,
   "metadata": {},
   "outputs": [],
   "source": [
    "df_titanic = dt.data('titanic')\n",
    "df_titanic.head()"
   ]
  },
  {
   "cell_type": "code",
   "execution_count": null,
   "metadata": {},
   "outputs": [],
   "source": [
    "#  1 - Qual a taxa de sobrevivência geral no navio?\n",
    "\n",
    "# Calcular a taxa de sobrevivência geral\n",
    "total_passageiros = df_titanic.shape[0]\n",
    "total_sobreviventes = (df_titanic['survived'] == 'yes').sum()\n",
    "\n",
    "taxa_sobrevivencia_geral = (total_sobreviventes / total_passageiros) * 100\n",
    "print('Total de passageiros: ', total_passageiros)\n",
    "print(f'Taxa de sobrevivência geral: {taxa_sobrevivencia_geral:.2f}%')"
   ]
  },
  {
   "cell_type": "code",
   "execution_count": null,
   "metadata": {},
   "outputs": [],
   "source": [
    "# 2 - 2. Qual a taxa de sobrevivência por classe (Pclass)?\n",
    "\n",
    "## Filtrar apenas as pessoas que sobreviveram\n",
    "sobreviventes = df_titanic[df_titanic['survived'] == 'yes']\n",
    "\n",
    "# Contar quantos sobreviventes existem em cada classe e dividir pelo total da classe\n",
    "taxa_sobrevivencia_por_classe = (sobreviventes.groupby('class').size() / df_titanic.groupby('class').size())*100\n",
    "\n",
    "# Mostrar o resultado\n",
    "print('Taxa de sobrevivência por classe:')\n",
    "print(taxa_sobrevivencia_por_classe.round(2).astype(str) + '%')"
   ]
  },
  {
   "cell_type": "code",
   "execution_count": null,
   "metadata": {},
   "outputs": [],
   "source": [
    " # 3. Qual o sexo com maior taxa de sobrevivência?\n",
    "\n",
    " # Filtrar apenas as pessoas que sobreviveram\n",
    "sobreviventes = df_titanic[df_titanic['survived'] == 'yes']\n",
    "\n",
    "\n",
    " #Contar quantos sobreviventes existem de cada sexo e dividir pelo total de cada sexo\n",
    "taxa_sobrevivencia_por_sexo = (sobreviventes.groupby('sex').size() / df_titanic.groupby('sex').size()) * 100\n",
    "\n",
    "# Mostrar o resultado formatado\n",
    "print('Taxa de sobrevivência por sexo (%):')\n",
    "print(taxa_sobrevivencia_por_sexo.round(2).astype(str) + '%')\n",
    "\n",
    "\n",
    " #Determinar o sexo com maior taxa de sobrevivência\n",
    "sexo_com_maior_taxa = taxa_sobrevivencia_por_sexo.idxmax()\n",
    "taxa_maior = taxa_sobrevivencia_por_sexo.max()\n",
    "\n",
    "# Mostrar o sexo com maior taxa de sobrevivência\n",
    "print(f'O sexo com maior taxa de sobrevivência é: {sexo_com_maior_taxa} com {taxa_maior:.2f}%')"
   ]
  },
  {
   "cell_type": "code",
   "execution_count": null,
   "metadata": {},
   "outputs": [],
   "source": [
    "#  4 - Baseado nos dados informados. Qual a quantidade de adultos e  crianças (sobreviventes) e não sobreviventes ?\n",
    "total_adultos = df_titanic[df_titanic['age'] == 'adults'].shape[0]\n",
    "total_criancas = df_titanic[df_titanic['age'] == 'child'].shape[0]\n",
    "\n",
    "adultos_sobreviventes = df_titanic[(df_titanic['age'] == 'adults') & (df_titanic['survived'] == 'yes')].shape[0]\n",
    "criancas_sobreviventes = df_titanic[(df_titanic['age'] == 'child') & (df_titanic['survived'] == 'yes')].shape[0]\n",
    "\n",
    " #Cria a tabela\n",
    "tabela_final = pd.DataFrame({\n",
    "    'Total': [total_adultos, total_criancas],\n",
    "    'Sobreviventes': [adultos_sobreviventes, criancas_sobreviventes],\n",
    "    'Não Sobreviventes': [(total_adultos-adultos_sobreviventes), (total_criancas-criancas_sobreviventes)]\n",
    "}, index=['adultos', 'crianças'])\n",
    "\n",
    "# Exibe a tabela\n",
    "tabela_final"
   ]
  }
 ],
 "metadata": {
  "kernelspec": {
   "display_name": "Python 3",
   "language": "python",
   "name": "python3"
  },
  "language_info": {
   "codemirror_mode": {
    "name": "ipython",
    "version": 3
   },
   "file_extension": ".py",
   "mimetype": "text/x-python",
   "name": "python",
   "nbconvert_exporter": "python",
   "pygments_lexer": "ipython3",
   "version": "3.13.2"
  }
 },
 "nbformat": 4,
 "nbformat_minor": 2
}
